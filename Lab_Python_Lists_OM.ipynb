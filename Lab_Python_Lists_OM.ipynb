{
  "nbformat": 4,
  "nbformat_minor": 0,
  "metadata": {
    "colab": {
      "provenance": []
    },
    "kernelspec": {
      "name": "python3",
      "display_name": "Python 3"
    },
    "language_info": {
      "name": "python"
    }
  },
  "cells": [
    {
      "cell_type": "markdown",
      "source": [
        "### 1) Modify the below list by deleting the first element and chaning the last element ot Joe\n",
        "\n",
        "names = ['Mike' 'Sam', 'Ann', 'Fred']"
      ],
      "metadata": {
        "id": "PsZi9R_jcRID"
      }
    },
    {
      "cell_type": "code",
      "source": [
        "name = ['Mike', 'Sam', 'Ann', 'Fred']\n",
        "\n",
        "name = name[1:]"
      ],
      "metadata": {
        "id": "g_M2ACCEMAGG"
      },
      "execution_count": null,
      "outputs": []
    },
    {
      "cell_type": "code",
      "source": [
        "for i in range(len(name)):\n",
        "    if name[i] == 'Fred':\n",
        "        name[i] = 'Joe'\n",
        "name"
      ],
      "metadata": {
        "colab": {
          "base_uri": "https://localhost:8080/"
        },
        "id": "F49cdrVmk2xO",
        "outputId": "5fa13178-e316-41a8-afee-b0b80fa39a7d"
      },
      "execution_count": null,
      "outputs": [
        {
          "output_type": "execute_result",
          "data": {
            "text/plain": [
              "['Sam', 'Ann', 'Joe']"
            ]
          },
          "metadata": {},
          "execution_count": 4
        }
      ]
    },
    {
      "cell_type": "markdown",
      "source": [
        "### 2) Create a list `short_names` Jan Sam Ann Joe Tod and sort `short_names` in reverse alphabetic order."
      ],
      "metadata": {
        "id": "UZcMMghHee-m"
      }
    },
    {
      "cell_type": "code",
      "source": [
        "short_names = ['Jan', 'Sam', 'Ann', 'Joe', 'Tod']\n",
        "\n",
        "short_names[::-1]"
      ],
      "metadata": {
        "id": "9jvCepx7ezYp",
        "colab": {
          "base_uri": "https://localhost:8080/"
        },
        "outputId": "ee4c2700-31c1-4e4e-d74b-b313ff225c8d"
      },
      "execution_count": null,
      "outputs": [
        {
          "output_type": "execute_result",
          "data": {
            "text/plain": [
              "['Tod', 'Joe', 'Ann', 'Sam', 'Jan']"
            ]
          },
          "metadata": {},
          "execution_count": 5
        }
      ]
    },
    {
      "cell_type": "markdown",
      "source": [
        "### 3) Finding the maximum even number in a list by iterating over every element. nums = [1, 4, 15, 456, 16, 200, 199]"
      ],
      "metadata": {
        "id": "4kofOc0QcR5e"
      }
    },
    {
      "cell_type": "code",
      "source": [
        "nums = [1, 4, 15, 456, 16, 200, 199]\n"
      ],
      "metadata": {
        "id": "W3B4YgOCclqV"
      },
      "execution_count": null,
      "outputs": []
    },
    {
      "cell_type": "code",
      "source": [
        "nums"
      ],
      "metadata": {
        "colab": {
          "base_uri": "https://localhost:8080/"
        },
        "id": "KEYKCGFQr1tn",
        "outputId": "500a83e1-5656-4138-f408-b0a971aa1e96"
      },
      "execution_count": null,
      "outputs": [
        {
          "output_type": "execute_result",
          "data": {
            "text/plain": [
              "[1, 4, 15, 456, 16, 200, 199]"
            ]
          },
          "metadata": {},
          "execution_count": 7
        }
      ]
    },
    {
      "cell_type": "code",
      "source": [
        "max_even = 0\n",
        "\n",
        "for num in nums:\n",
        "    if num % 2 == 0:\n",
        "        if num > max_even:\n",
        "            max_even = num\n",
        "\n",
        "max_even"
      ],
      "metadata": {
        "colab": {
          "base_uri": "https://localhost:8080/"
        },
        "id": "ermpZ3mgr5AZ",
        "outputId": "1c9f2090-53cd-48dd-8306-46c0ab62b1f0"
      },
      "execution_count": null,
      "outputs": [
        {
          "output_type": "execute_result",
          "data": {
            "text/plain": [
              "456"
            ]
          },
          "metadata": {},
          "execution_count": 8
        }
      ]
    },
    {
      "cell_type": "markdown",
      "source": [
        "### 4) Add 10 to every element in my_list [5, 20, 50] using `list comprehension` "
      ],
      "metadata": {
        "id": "c2u4yJVlFucz"
      }
    },
    {
      "cell_type": "code",
      "source": [
        "my_list = [5, 20, 50]\n",
        "list2 = [item+10 for item in my_list]\n",
        "list2"
      ],
      "metadata": {
        "id": "u8JGFMuqcpP4",
        "colab": {
          "base_uri": "https://localhost:8080/"
        },
        "outputId": "12e1116c-4de8-4bb4-e1c9-44bda6ab7a81"
      },
      "execution_count": null,
      "outputs": [
        {
          "output_type": "execute_result",
          "data": {
            "text/plain": [
              "[15, 30, 60]"
            ]
          },
          "metadata": {},
          "execution_count": 9
        }
      ]
    },
    {
      "cell_type": "code",
      "source": [],
      "metadata": {
        "id": "y4BPmgyOtwXO"
      },
      "execution_count": null,
      "outputs": []
    },
    {
      "cell_type": "markdown",
      "source": [
        "### 5) Find the sum of each row in a two-dimensional list using `list comprehension` "
      ],
      "metadata": {
        "id": "IuMenzYyGI5o"
      }
    },
    {
      "cell_type": "code",
      "source": [
        "my_list = [[5, 10, 15], [2, 3, 16], [100]]"
      ],
      "metadata": {
        "id": "klnc1uQJBTJE"
      },
      "execution_count": null,
      "outputs": []
    },
    {
      "cell_type": "code",
      "source": [
        "[sum (row) for row in my_list]\n"
      ],
      "metadata": {
        "colab": {
          "base_uri": "https://localhost:8080/"
        },
        "id": "9U-VUprBtJ68",
        "outputId": "b664f034-6a91-475d-f09f-b4231e662b05"
      },
      "execution_count": null,
      "outputs": [
        {
          "output_type": "execute_result",
          "data": {
            "text/plain": [
              "[30, 21, 100]"
            ]
          },
          "metadata": {},
          "execution_count": 11
        }
      ]
    },
    {
      "cell_type": "markdown",
      "source": [
        "### 6) Write a list comprehension that contains elements Only negative odd values from the list x"
      ],
      "metadata": {
        "id": "sszOFMCIGyfx"
      }
    },
    {
      "cell_type": "code",
      "source": [
        "x = [-1, -19, 21, 31, -44, 3, 4, 10, -1]"
      ],
      "metadata": {
        "id": "DKTCqhw2GyIn"
      },
      "execution_count": null,
      "outputs": []
    },
    {
      "cell_type": "code",
      "source": [
        "[item for item in x if ((item %2 != 0) and (item < 0)) ]"
      ],
      "metadata": {
        "colab": {
          "base_uri": "https://localhost:8080/"
        },
        "id": "syPLpVo6q-47",
        "outputId": "4ccc7520-0af8-4537-943d-6bde820e6ce2"
      },
      "execution_count": null,
      "outputs": [
        {
          "output_type": "execute_result",
          "data": {
            "text/plain": [
              "[-1, -19, -1]"
            ]
          },
          "metadata": {},
          "execution_count": 13
        }
      ]
    },
    {
      "cell_type": "code",
      "source": [],
      "metadata": {
        "id": "eqlwsXhQso20"
      },
      "execution_count": null,
      "outputs": []
    }
  ]
}